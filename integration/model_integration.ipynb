{
 "cells": [
  {
   "cell_type": "markdown",
   "id": "cf7c3f47-a461-4282-a286-10186b4f5d83",
   "metadata": {},
   "source": [
    "---\n",
    "<h1 align='center'>Integration: Predict Absenteeism on New Data</h1>\n",
    "\n",
    "This notebook demonstrates how to:\n",
    "\n",
    "* Load a previously trained **logistic regression model** and custom **scaler**.\n",
    "* Use the model to **predict excessive absenteeism** on a new dataset that has the same structure as the training data.\n",
    "* Export results for integration with business intelligence tools like **Tableau**."
   ]
  },
  {
   "cell_type": "markdown",
   "id": "f0323a92-0568-41da-b04e-a4246540d60c",
   "metadata": {},
   "source": [
    "---\n",
    "## 1. Import Required Class"
   ]
  },
  {
   "cell_type": "code",
   "execution_count": 3,
   "id": "15af535e-14be-4619-bd0d-79fc98595fac",
   "metadata": {},
   "outputs": [],
   "source": [
    "# Import the absenteeism model class from the module\n",
    "from Absenteeism_Module import *"
   ]
  },
  {
   "cell_type": "markdown",
   "id": "c208ae73-50d1-44b1-8741-a2d307d37f9d",
   "metadata": {},
   "source": [
    "---\n",
    "## 2. Load and Initialize Model"
   ]
  },
  {
   "cell_type": "code",
   "execution_count": 5,
   "id": "063130c1-37c1-48bd-93b8-7466e0e89f12",
   "metadata": {},
   "outputs": [],
   "source": [
    "# Initialize the model by loading the trained logistic regression model and scaler\n",
    "model = absenteeism_model('model', 'scaler')  # files must exist in the current working directory"
   ]
  },
  {
   "cell_type": "markdown",
   "id": "d023d30b-dc8d-4471-be1d-7e124e3edc98",
   "metadata": {},
   "source": [
    "---\n",
    "## 3. Load and Preprocess New Data"
   ]
  },
  {
   "cell_type": "code",
   "execution_count": 7,
   "id": "fb6c1f3b-31b2-4084-8525-16f65afd3b14",
   "metadata": {},
   "outputs": [],
   "source": [
    "# Load and clean the new absenteeism dataset\n",
    "# Make sure the dataset format matches the structure used in training\n",
    "model.load_and_clean_data('absenteeism_new_data.csv')  # Replace with your actual file name"
   ]
  },
  {
   "cell_type": "markdown",
   "id": "ef784ab2-88d0-4923-88cf-836f123995d3",
   "metadata": {},
   "source": [
    "---\n",
    "## 4. Generate Predictions (Preview)"
   ]
  },
  {
   "cell_type": "code",
   "execution_count": 9,
   "id": "28a22109-6538-4702-a8dc-d6bf19a4b0bf",
   "metadata": {},
   "outputs": [
    {
     "data": {
      "text/plain": [
       "array([0, 1, 0, 0, 1, 1, 1, 0, 0, 1, 0, 1, 0, 0, 0, 0, 1, 1, 0, 1, 0, 0,\n",
       "       1, 1, 0, 1, 0, 1, 0, 1, 0, 0, 0, 0, 1, 1, 1, 0, 0, 0])"
      ]
     },
     "execution_count": 9,
     "metadata": {},
     "output_type": "execute_result"
    }
   ],
   "source": [
    "# Output predicted categories (0 or 1)\n",
    "model.predicted_output_category()"
   ]
  },
  {
   "cell_type": "code",
   "execution_count": 10,
   "id": "f7a9fd4e-fc48-41a4-aa44-bbaf06562432",
   "metadata": {},
   "outputs": [
    {
     "data": {
      "text/plain": [
       "array([0.14004594, 0.86011634, 0.25983593, 0.23083138, 0.71077038,\n",
       "       0.69594337, 0.56185642, 0.14004594, 0.13006987, 0.51140023,\n",
       "       0.42763561, 0.63221588, 0.37928795, 0.14004594, 0.07957207,\n",
       "       0.18164398, 0.63221588, 0.53271359, 0.37055204, 0.54436287,\n",
       "       0.13546677, 0.06396433, 0.52310519, 0.52310519, 0.06396433,\n",
       "       0.52572276, 0.39038508, 0.62953916, 0.13546677, 0.62953916,\n",
       "       0.24448927, 0.13546677, 0.47930791, 0.25520956, 0.96424235,\n",
       "       0.91040548, 0.78970596, 0.02032853, 0.26229371, 0.06334238])"
      ]
     },
     "execution_count": 10,
     "metadata": {},
     "output_type": "execute_result"
    }
   ],
   "source": [
    "# Output predicted probabilities for each observation\n",
    "model.predicted_probability()"
   ]
  },
  {
   "cell_type": "markdown",
   "id": "b717c0be-b235-4f34-8dc8-40380926ff35",
   "metadata": {},
   "source": [
    "---\n",
    "## 5. Attach Predictions to the Dataset"
   ]
  },
  {
   "cell_type": "code",
   "execution_count": 12,
   "id": "32e204b4-22fa-4e2f-8619-2e24c3a23c99",
   "metadata": {},
   "outputs": [
    {
     "data": {
      "text/html": [
       "<div>\n",
       "<style scoped>\n",
       "    .dataframe tbody tr th:only-of-type {\n",
       "        vertical-align: middle;\n",
       "    }\n",
       "\n",
       "    .dataframe tbody tr th {\n",
       "        vertical-align: top;\n",
       "    }\n",
       "\n",
       "    .dataframe thead th {\n",
       "        text-align: right;\n",
       "    }\n",
       "</style>\n",
       "<table border=\"1\" class=\"dataframe\">\n",
       "  <thead>\n",
       "    <tr style=\"text-align: right;\">\n",
       "      <th></th>\n",
       "      <th>reason_group_1</th>\n",
       "      <th>reason_group_2</th>\n",
       "      <th>reason_group_3</th>\n",
       "      <th>reason_group_4</th>\n",
       "      <th>month</th>\n",
       "      <th>transportation_expense_dollars</th>\n",
       "      <th>age</th>\n",
       "      <th>body_mass_index</th>\n",
       "      <th>children</th>\n",
       "      <th>pets</th>\n",
       "      <th>probability</th>\n",
       "      <th>prediction</th>\n",
       "    </tr>\n",
       "  </thead>\n",
       "  <tbody>\n",
       "    <tr>\n",
       "      <th>0</th>\n",
       "      <td>0</td>\n",
       "      <td>0.0</td>\n",
       "      <td>0</td>\n",
       "      <td>1</td>\n",
       "      <td>6</td>\n",
       "      <td>179</td>\n",
       "      <td>30</td>\n",
       "      <td>19</td>\n",
       "      <td>0</td>\n",
       "      <td>0</td>\n",
       "      <td>0.140046</td>\n",
       "      <td>0</td>\n",
       "    </tr>\n",
       "    <tr>\n",
       "      <th>1</th>\n",
       "      <td>1</td>\n",
       "      <td>0.0</td>\n",
       "      <td>0</td>\n",
       "      <td>0</td>\n",
       "      <td>6</td>\n",
       "      <td>361</td>\n",
       "      <td>28</td>\n",
       "      <td>27</td>\n",
       "      <td>1</td>\n",
       "      <td>4</td>\n",
       "      <td>0.860116</td>\n",
       "      <td>1</td>\n",
       "    </tr>\n",
       "    <tr>\n",
       "      <th>2</th>\n",
       "      <td>0</td>\n",
       "      <td>0.0</td>\n",
       "      <td>0</td>\n",
       "      <td>1</td>\n",
       "      <td>6</td>\n",
       "      <td>155</td>\n",
       "      <td>34</td>\n",
       "      <td>25</td>\n",
       "      <td>2</td>\n",
       "      <td>0</td>\n",
       "      <td>0.259836</td>\n",
       "      <td>0</td>\n",
       "    </tr>\n",
       "    <tr>\n",
       "      <th>3</th>\n",
       "      <td>0</td>\n",
       "      <td>0.0</td>\n",
       "      <td>0</td>\n",
       "      <td>1</td>\n",
       "      <td>6</td>\n",
       "      <td>179</td>\n",
       "      <td>40</td>\n",
       "      <td>22</td>\n",
       "      <td>2</td>\n",
       "      <td>0</td>\n",
       "      <td>0.230831</td>\n",
       "      <td>0</td>\n",
       "    </tr>\n",
       "    <tr>\n",
       "      <th>4</th>\n",
       "      <td>1</td>\n",
       "      <td>0.0</td>\n",
       "      <td>0</td>\n",
       "      <td>0</td>\n",
       "      <td>6</td>\n",
       "      <td>155</td>\n",
       "      <td>34</td>\n",
       "      <td>25</td>\n",
       "      <td>2</td>\n",
       "      <td>0</td>\n",
       "      <td>0.710770</td>\n",
       "      <td>1</td>\n",
       "    </tr>\n",
       "  </tbody>\n",
       "</table>\n",
       "</div>"
      ],
      "text/plain": [
       "   reason_group_1  reason_group_2  reason_group_3  reason_group_4  month  \\\n",
       "0               0             0.0               0               1      6   \n",
       "1               1             0.0               0               0      6   \n",
       "2               0             0.0               0               1      6   \n",
       "3               0             0.0               0               1      6   \n",
       "4               1             0.0               0               0      6   \n",
       "\n",
       "   transportation_expense_dollars  age  body_mass_index  children  pets  \\\n",
       "0                             179   30               19         0     0   \n",
       "1                             361   28               27         1     4   \n",
       "2                             155   34               25         2     0   \n",
       "3                             179   40               22         2     0   \n",
       "4                             155   34               25         2     0   \n",
       "\n",
       "   probability  prediction  \n",
       "0     0.140046           0  \n",
       "1     0.860116           1  \n",
       "2     0.259836           0  \n",
       "3     0.230831           0  \n",
       "4     0.710770           1  "
      ]
     },
     "execution_count": 12,
     "metadata": {},
     "output_type": "execute_result"
    }
   ],
   "source": [
    "# Output predicted categories (0 or 1)\n",
    "predicted_results  = model.predicted_outputs()\n",
    "predicted_results .head()"
   ]
  },
  {
   "cell_type": "markdown",
   "id": "eb7c1b4d-ef95-4d91-bdb7-918c2042a256",
   "metadata": {},
   "source": [
    "#### Understanding the Prediction Outputs\n",
    "\n",
    "The final DataFrame contains two key output columns:\n",
    "\n",
    "* **`probability`**:\n",
    "  This column contains the **predicted probability** (as float values between 0 and 1) that a given employee will be **excessively absent**, meaning they are expected to miss **more than 3 hours** of work. These probabilities are generated by the logistic regression model.\n",
    "\n",
    "* **`prediction`**:\n",
    "  This is a **binary classification** (0 or 1) derived from the `probability` column.\n",
    "\n",
    "  * A value of `1` indicates a predicted probability of **50% or higher**, meaning the employee is likely to be excessively absent.\n",
    "  * A value of `0` indicates a predicted probability of **less than 50%**, meaning the employee is not expected to be excessively absent.\n",
    "\n",
    "Together, these columns allow us to interpret both the model's confidence and the final classification decision."
   ]
  },
  {
   "cell_type": "markdown",
   "id": "99ac2c62-6797-436e-9416-e5be5831c5a2",
   "metadata": {},
   "source": [
    "---\n",
    "## 6. Save Final Output "
   ]
  },
  {
   "cell_type": "code",
   "execution_count": 15,
   "id": "bc9950d7-0d89-48a6-b812-f818b11139c5",
   "metadata": {},
   "outputs": [],
   "source": [
    "# Export the prediction results for Tableau integration or business use\n",
    "predicted_results.to_csv('absenteeism_predictions.csv', index=False)"
   ]
  },
  {
   "cell_type": "markdown",
   "id": "842f4b1b-2307-4b72-894a-c361a71f5c67",
   "metadata": {},
   "source": [
    "---"
   ]
  }
 ],
 "metadata": {
  "kernelspec": {
   "display_name": "Python [conda env:base] *",
   "language": "python",
   "name": "conda-base-py"
  },
  "language_info": {
   "codemirror_mode": {
    "name": "ipython",
    "version": 3
   },
   "file_extension": ".py",
   "mimetype": "text/x-python",
   "name": "python",
   "nbconvert_exporter": "python",
   "pygments_lexer": "ipython3",
   "version": "3.12.3"
  }
 },
 "nbformat": 4,
 "nbformat_minor": 5
}
